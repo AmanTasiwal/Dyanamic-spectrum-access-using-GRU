{
 "cells": [
  {
   "cell_type": "code",
   "execution_count": null,
   "id": "a574842e",
   "metadata": {},
   "outputs": [],
   "source": [
    "import tensorflow as tf \n",
    "import tensorflow.keras.layers as layers\n",
    "import tensorflow.keras.models as models\n",
    "import tensorflow.keras.optimizers as optim \n",
    "\n",
    "import os \n",
    "import pandas as pd \n",
    "import numpy as np "
   ]
  },
  {
   "cell_type": "code",
   "execution_count": null,
   "id": "6a29b309",
   "metadata": {},
   "outputs": [],
   "source": [
    "dataset = pd.read_csv(r\"data.csv\").values\n",
    "dataset"
   ]
  },
  {
   "cell_type": "code",
   "execution_count": null,
   "id": "bd31d8e3",
   "metadata": {},
   "outputs": [],
   "source": [
    "ytrain = np.array(dataset[:, -1], dtype=\"float32\")\n",
    "xtrain = np.array(dataset[:, -5:-1], dtype=\"float32\")\n",
    "seqtrain =  np.array(dataset[:, 1:-5], dtype=\"float32\")"
   ]
  },
  {
   "cell_type": "code",
   "execution_count": null,
   "id": "b3c1c594",
   "metadata": {},
   "outputs": [],
   "source": [
    "ytrain.shape, xtrain.shape, seqtrain.shape"
   ]
  },
  {
   "cell_type": "code",
   "execution_count": null,
   "id": "b09709cf",
   "metadata": {},
   "outputs": [],
   "source": [
    "seqinp = layers.Input((10, 1))\n",
    "xinp = layers.Input((4))\n",
    "\n",
    "lstm1 = layers.Bidirectional(layers.LSTM(4, return_sequences=True))(seqinp)\n",
    "lstm2 = layers.Bidirectional(layers.LSTM(16, return_sequences=True))(lstm1)\n",
    "lstm3 = layers.Bidirectional(layers.LSTM(8))(lstm2)\n",
    "\n",
    "dense1 = layers.Dense(8, activation=\"relu\")(xinp)\n",
    "dense2 = layers.Dense(16, activation=\"relu\")(dense1)\n",
    "dense3 = layers.Dense(16, activation=\"relu\")(dense2)\n",
    "\n",
    "concat = layers.Concatenate()([lstm3, dense3])\n",
    "dense = layers.Dense(10, activation=\"relu\")(concat)\n",
    "final = layers.Dense(1, activation=\"sigmoid\")(dense)\n",
    "\n",
    "\n",
    "model = models.Model(inputs=[seqinp, xinp], outputs=final)\n",
    "model.summary()"
   ]
  },
  {
   "cell_type": "code",
   "execution_count": null,
   "id": "7c465dd5",
   "metadata": {},
   "outputs": [],
   "source": [
    "seqtrain"
   ]
  },
  {
   "cell_type": "code",
   "execution_count": null,
   "id": "d57d059e",
   "metadata": {},
   "outputs": [],
   "source": [
    "model.compile(loss=\"bce\", optimizer=optim.Adam(lr=1e-3), metrics=\"accuracy\")\n",
    "history_lstm = model.fit([seqtrain, xtrain], ytrain, epochs=100, batch_size=64, verbose=1, validation_split=0.3)"
   ]
  },
  {
   "cell_type": "code",
   "execution_count": null,
   "id": "905ccc8c",
   "metadata": {},
   "outputs": [],
   "source": [
    "seqinp = layers.Input((10, 1))\n",
    "xinp = layers.Input((4))\n",
    "\n",
    "gru1 = layers.Bidirectional(layers.GRU(4, return_sequences=True))(seqinp)\n",
    "gru2 = layers.Bidirectional(layers.GRU(16, return_sequences=True))(gru1)\n",
    "gru3 = layers.Bidirectional(layers.GRU(8))(gru2)\n",
    "\n",
    "dense1 = layers.Dense(8, activation=\"relu\")(xinp)\n",
    "dense2 = layers.Dense(16, activation=\"relu\")(dense1)\n",
    "dense3 = layers.Dense(16, activation=\"relu\")(dense2)\n",
    "\n",
    "concat = layers.Concatenate()([gru3, dense3])\n",
    "dense = layers.Dense(10, activation=\"relu\")(concat)\n",
    "final = layers.Dense(1, activation=\"sigmoid\")(dense)\n",
    "\n",
    "\n",
    "model = models.Model(inputs=[seqinp, xinp], outputs=final)\n",
    "model.summary()"
   ]
  },
  {
   "cell_type": "code",
   "execution_count": null,
   "id": "19ebf928",
   "metadata": {},
   "outputs": [],
   "source": [
    "model.compile(loss=\"bce\", optimizer=optim.Adam(lr=1e-3), metrics=\"accuracy\")\n",
    "history_gru = model.fit([seqtrain, xtrain], ytrain, epochs=100, batch_size=64, verbose=1, validation_split=0.3)"
   ]
  },
  {
   "cell_type": "code",
   "execution_count": null,
   "id": "f7864af4",
   "metadata": {},
   "outputs": [],
   "source": [
    "import matplotlib.pyplot as plt\n",
    "y = history_lstm.history['loss']\n",
    "y2 = history_gru.history['loss']\n",
    "\n",
    "# x = np.arange(0, 100)\n",
    "\n",
    "plt.plot(x,y, color = 'black', linewidth = 1 , label= \"lstm\")\n",
    "plt.plot(x,y2, color = 'blue',  linewidth = 1 , label = \"gru\")\n",
    "# plt.axis([0,110,0,1])\n",
    "plt.ylabel(\"loss\")\n",
    "plt.xlabel(\"epochs\")\n",
    "plt.grid()\n",
    "# plt.text(2,80,\"text\", fontsize = 12)\n",
    "plt.legend()\n",
    "plt.title(\"loss graph\")\n",
    "plt.show()\n",
    "    "
   ]
  },
  {
   "cell_type": "code",
   "execution_count": null,
   "id": "a1d36f0c",
   "metadata": {},
   "outputs": [],
   "source": [
    "y = history_lstm.history['val_loss']\n",
    "y2 = history_gru.history['val_loss']\n",
    "\n",
    "# x = np.arange(0, 100)\n",
    "\n",
    "plt.plot(x,y, color = 'black', linewidth = 1 , label= \"lstm\")\n",
    "plt.plot(x,y2, color = 'blue',  linewidth = 1 , label = \"gru\")\n",
    "# plt.axis([0,1.5,0,110])\n",
    "plt.ylabel(\"validation loss\")\n",
    "plt.xlabel(\"epochs\")\n",
    "plt.grid()\n",
    "# plt.text(2,80,\"text\", fontsize = 12)\n",
    "plt.legend()\n",
    "plt.title(\"validation loss graph\")\n",
    "plt.show()"
   ]
  },
  {
   "cell_type": "code",
   "execution_count": null,
   "id": "6b2190eb",
   "metadata": {},
   "outputs": [],
   "source": [
    "y = history_lstm.history['accuracy']\n",
    "y2 = history_gru.history['accuracy']\n",
    "\n",
    "# x = np.arange(0, 100)\n",
    "\n",
    "plt.plot(x,y, color = 'black', linewidth = 1 , label= \"lstm\")\n",
    "plt.plot(x,y2, color = 'blue', linewidth = 1 , label = \"gru\")\n",
    "plt.axis([0,110,0,1])\n",
    "plt.ylabel(\"accuracy\")\n",
    "plt.xlabel(\"epochs\")\n",
    "plt.grid()\n",
    "# plt.text(2,80,\"text\", fontsize = 12)\n",
    "plt.legend()\n",
    "plt.title(\"accuracy graph\")\n",
    "plt.show()\n",
    "    "
   ]
  },
  {
   "cell_type": "code",
   "execution_count": null,
   "id": "ff93676b",
   "metadata": {},
   "outputs": [],
   "source": [
    "y = history_lstm.history['val_accuracy']\n",
    "y2 = history_gru.history['val_accuracy']\n",
    "\n",
    "# x = np.arange(0, 100)\n",
    "\n",
    "plt.plot(x,y, color = 'black', linewidth = 1 , label= \"lstm\")\n",
    "plt.plot(x,y2, color = 'blue', linewidth = 1 , label = \"gru\")\n",
    "# plt.axis([0,1.5,0,110])\n",
    "plt.ylabel(\"validation accuracy\")\n",
    "plt.xlabel(\"epochs\")\n",
    "plt.grid()\n",
    "# plt.text(2,80,\"text\", fontsize = 12)\n",
    "plt.legend()\n",
    "plt.title(\"validation accuracy graph\")\n",
    "plt.show()"
   ]
  }
 ],
 "metadata": {
  "kernelspec": {
   "display_name": "Python 3 (ipykernel)",
   "language": "python",
   "name": "python3"
  },
  "language_info": {
   "codemirror_mode": {
    "name": "ipython",
    "version": 3
   },
   "file_extension": ".py",
   "mimetype": "text/x-python",
   "name": "python",
   "nbconvert_exporter": "python",
   "pygments_lexer": "ipython3",
   "version": "3.10.9"
  }
 },
 "nbformat": 4,
 "nbformat_minor": 5
}
